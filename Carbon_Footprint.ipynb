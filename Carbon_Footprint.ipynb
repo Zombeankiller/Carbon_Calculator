{
 "cells": [
  {
   "cell_type": "code",
   "execution_count": null,
   "metadata": {},
   "outputs": [],
   "source": [
    "import pandas as pd\n",
    "url = 'https://github.com/Zombeankiller/Carbon_Calculator/blob/3311da9917b20126327f7b4a9f14fd1e8d5f95cc/GHG_filters.csv?raw=true'\n",
    "data = pd.read_csv(url,index_col=0)\n",
    "Household_size = input(\"How many people live in your house:\")\n",
    "print(\"Ok!!! \" + Household_size + \" people live in your house right\")\n",
    "if int(Household_size) > 4:\n",
    "  Household_size = \"5+\"\n",
    "temp_Data\n",
    "print(\" HELPFUL DATA: Above you can see the average of all the utilities, water and waste your house may produce\")\n",
    "amt_electricity = input(\"How much electricity do you think your house consume:\")\n",
    "print(\"Ok!!! Your household consume \" + amt_electricity + \" kWh of electricity\")\n",
    "amt_gas = input(\"How much gas do you think your house consume:\")\n",
    "print(\"Ok!!! Your household consume \" + amt_gas + \" MJ of gas\")\n",
    "amt_Water = input(\"How much Water do you think your house consume:\")\n",
    "print(\"Ok!!! Your household consume \" + amt_Water + \" Kl of Water\")\n",
    "amt_Waste = input(\"How much Waste do you think your house consume:\")\n",
    "print(\"Ok!!! Your household consume \" + amt_Waste + \" Kg of Waste\")\n",
    "Carbon_footprint = (float(amt_electricity) * float(viz_Data.iloc[0,4])) \n",
    "+ (float(amt_gas) * float(viz_Data.iloc[1,4]))\n",
    "+ (float(amt_Water) * float(viz_Data.iloc[2,4]))\n",
    "+ (float(amt_Waste) * float(viz_Data.iloc[3,4]))\n",
    "print(\"Damn!!! Your household produces \" + str(int(Carbon_footprint)) + \"Kg of CO2 per day\")\n",
    "print(\"And do you know to offset this much Co2 \" + str(int(Carbon_footprint/0.06)) + \" tree are required\")"
   ]
  }
 ],
 "metadata": {
  "kernelspec": {
   "display_name": "Python 3",
   "language": "python",
   "name": "python3"
  },
  "language_info": {
   "codemirror_mode": {
    "name": "ipython",
    "version": 3
   },
   "file_extension": ".py",
   "mimetype": "text/x-python",
   "name": "python",
   "nbconvert_exporter": "python",
   "pygments_lexer": "ipython3",
   "version": "3.7.4"
  }
 },
 "nbformat": 4,
 "nbformat_minor": 2
}
